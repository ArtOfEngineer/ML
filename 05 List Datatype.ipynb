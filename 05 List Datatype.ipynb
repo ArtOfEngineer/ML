{
 "cells": [
  {
   "cell_type": "markdown",
   "metadata": {},
   "source": [
    "List is one of the popular data structure in python. \n",
    "It is basically a collection of certain items. The items are separated by comma(,)\n",
    "and the list is enclosed in between square brackets [ ]."
   ]
  },
  {
   "cell_type": "code",
   "execution_count": 1,
   "metadata": {
    "collapsed": false
   },
   "outputs": [
    {
     "name": "stdout",
     "output_type": "stream",
     "text": [
      "['cat', 'dog', 'cow']\n"
     ]
    }
   ],
   "source": [
    "List_of_Strings = [ 'cat' , 'dog' , 'cow' ]\n",
    "print(List_of_Strings)"
   ]
  },
  {
   "cell_type": "code",
   "execution_count": 2,
   "metadata": {
    "collapsed": false
   },
   "outputs": [
    {
     "name": "stdout",
     "output_type": "stream",
     "text": [
      "[2, 4, 8, 9, 10, 22]\n"
     ]
    }
   ],
   "source": [
    "List_of_Numbers = [ 2 , 4 , 8 , 9 , 10 , 22 ]\n",
    "print(List_of_Numbers)"
   ]
  },
  {
   "cell_type": "markdown",
   "metadata": {},
   "source": [
    "We can also have list of lists,. In this example, we have 4 lists inside the main list. The 4th list again has 2 lists inside it."
   ]
  },
  {
   "cell_type": "code",
   "execution_count": 3,
   "metadata": {
    "collapsed": false
   },
   "outputs": [
    {
     "name": "stdout",
     "output_type": "stream",
     "text": [
      "[['A', 1], [2, 3.0], ['hi', 34], [[4, 'H'], [6]]]\n"
     ]
    }
   ],
   "source": [
    "List_of_Lists = [ ['A' ,1] , [2,3.0] , ['hi',34] , [[4,'H'],[6]] ]\n",
    "print(List_of_Lists)"
   ]
  },
  {
   "cell_type": "markdown",
   "metadata": {},
   "source": [
    "And yes, List can also have mixed items like string, integer, float, list etc which we can see in this example:  "
   ]
  },
  {
   "cell_type": "code",
   "execution_count": 4,
   "metadata": {
    "collapsed": false
   },
   "outputs": [
    {
     "name": "stdout",
     "output_type": "stream",
     "text": [
      "['hello', 23, 4.0, ['hi', 12], 'abc']\n"
     ]
    }
   ],
   "source": [
    "List_of_Mixed_Items = ['hello', 23, 4.0, ['hi', 12], 'abc']\n",
    "print(List_of_Mixed_Items)"
   ]
  },
  {
   "cell_type": "code",
   "execution_count": 5,
   "metadata": {
    "collapsed": false
   },
   "outputs": [
    {
     "name": "stdout",
     "output_type": "stream",
     "text": [
      "[]\n"
     ]
    }
   ],
   "source": [
    "emptyList = []\n",
    "print(emptyList)"
   ]
  },
  {
   "cell_type": "code",
   "execution_count": 10,
   "metadata": {
    "collapsed": false
   },
   "outputs": [
    {
     "name": "stdout",
     "output_type": "stream",
     "text": [
      "[]\n"
     ]
    }
   ],
   "source": [
    "emptyList = list()\n",
    "print(emptyList)"
   ]
  },
  {
   "cell_type": "markdown",
   "metadata": {},
   "source": [
    "Lets Create a list of numbers using list comprehension (using for loop):"
   ]
  },
  {
   "cell_type": "code",
   "execution_count": 11,
   "metadata": {
    "collapsed": false
   },
   "outputs": [
    {
     "name": "stdout",
     "output_type": "stream",
     "text": [
      "[0, 1, 2, 3, 4, 5, 6, 7, 8, 9]\n"
     ]
    }
   ],
   "source": [
    "listofnum = [i for i in range(0,10) ]\n",
    "print(listofnum)"
   ]
  },
  {
   "cell_type": "markdown",
   "metadata": {},
   "source": [
    "Here range(0,10) gives numbers from 0 to 10. the statement i for i in basically tells to select each item (i) in the range (0,10)"
   ]
  },
  {
   "cell_type": "markdown",
   "metadata": {},
   "source": [
    "There is an easier way to to do this:"
   ]
  },
  {
   "cell_type": "code",
   "execution_count": 12,
   "metadata": {
    "collapsed": false
   },
   "outputs": [
    {
     "name": "stdout",
     "output_type": "stream",
     "text": [
      "[0, 1, 2, 3, 4, 5, 6, 7, 8, 9]\n"
     ]
    }
   ],
   "source": [
    "lstofnum = list(range(10))\n",
    "print(listofnum)"
   ]
  },
  {
   "cell_type": "markdown",
   "metadata": {},
   "source": [
    "lets look at another example of creating even numbers less than 10 using list comprehension : In this case we will just add a step 2 in the range which skips the odd numbers since we mentioned 0 as starting number."
   ]
  },
  {
   "cell_type": "code",
   "execution_count": 13,
   "metadata": {
    "collapsed": false
   },
   "outputs": [
    {
     "name": "stdout",
     "output_type": "stream",
     "text": [
      "[0, 2, 4, 6, 8]\n"
     ]
    }
   ],
   "source": [
    "listofnum2 = [i for i in range(0,10,2)]\n",
    "print(listofnum2)"
   ]
  },
  {
   "cell_type": "markdown",
   "metadata": {},
   "source": [
    "Creating List from comma seperated string: Lets create a string with comma seperated words. To add each word in this string to a list, we can use .split() method and pass comma (',') as the delimiter."
   ]
  },
  {
   "cell_type": "code",
   "execution_count": 14,
   "metadata": {
    "collapsed": false
   },
   "outputs": [
    {
     "name": "stdout",
     "output_type": "stream",
     "text": [
      "['hi', 'hello', 'welcome', 'python', 'is', 'awesome']\n"
     ]
    }
   ],
   "source": [
    "stringWithCommas = \"hi,hello,welcome,python,is,awesome\"\n",
    "stringlst = stringWithCommas.split(',')\n",
    "print(stringlst)"
   ]
  },
  {
   "cell_type": "markdown",
   "metadata": {},
   "source": [
    "Next we will see how to put all characters in a string to list..Lets declare a string str2 = \"hello\". To put each letter in this word to a list, we need to simply write list(str2)."
   ]
  },
  {
   "cell_type": "code",
   "execution_count": 15,
   "metadata": {
    "collapsed": false
   },
   "outputs": [
    {
     "name": "stdout",
     "output_type": "stream",
     "text": [
      "['h', 'e', 'l', 'l', 'o']\n"
     ]
    }
   ],
   "source": [
    "str2 = \"hello\"\n",
    "str2lst = list(str2)\n",
    "print(str2lst)"
   ]
  },
  {
   "cell_type": "markdown",
   "metadata": {},
   "source": [
    "Lets try the same thing with integers. The thing which we tried with string wont work here. The trick is to convert the integer to string temporarily, then convert each string digit back to a int and putting it in to the list."
   ]
  },
  {
   "cell_type": "code",
   "execution_count": 17,
   "metadata": {
    "collapsed": false
   },
   "outputs": [
    {
     "name": "stdout",
     "output_type": "stream",
     "text": [
      "[1, 2, 3, 4, 5, 6]\n"
     ]
    }
   ],
   "source": [
    "integer = 123456\n",
    "intTolst = [int(i) for i in str(integer)]\n",
    "print(intTolst)"
   ]
  },
  {
   "cell_type": "markdown",
   "metadata": {},
   "source": [
    "Next, we will convert the dictionary key or value to list. Lets declare a dictionary with key and value pairs. a b c d are the keys and 1 2 3 4 are their respective values."
   ]
  },
  {
   "cell_type": "code",
   "execution_count": 18,
   "metadata": {
    "collapsed": false
   },
   "outputs": [
    {
     "name": "stdout",
     "output_type": "stream",
     "text": [
      "{'a': 1, 'b': 2, 'c': 3, 'd': 4}\n"
     ]
    }
   ],
   "source": [
    "my_dict = {'a':1,'b':2,'c':3,'d':4}\n",
    "print(my_dict)"
   ]
  },
  {
   "cell_type": "code",
   "execution_count": 19,
   "metadata": {
    "collapsed": false
   },
   "outputs": [
    {
     "name": "stdout",
     "output_type": "stream",
     "text": [
      "['a', 'b', 'c', 'd']\n"
     ]
    }
   ],
   "source": [
    "key_list = list(my_dict.keys())\n",
    "print(key_list)"
   ]
  },
  {
   "cell_type": "code",
   "execution_count": 21,
   "metadata": {
    "collapsed": false
   },
   "outputs": [
    {
     "name": "stdout",
     "output_type": "stream",
     "text": [
      "[1, 2, 3, 4]\n"
     ]
    }
   ],
   "source": [
    "value_list = list(my_dict.values())\n",
    "print(value_list)"
   ]
  },
  {
   "cell_type": "markdown",
   "metadata": {},
   "source": [
    "Lets now look at the popular built in functions for lists in python. list.append() method is used append a single element at the end of the list."
   ]
  },
  {
   "cell_type": "code",
   "execution_count": 22,
   "metadata": {
    "collapsed": false
   },
   "outputs": [
    {
     "name": "stdout",
     "output_type": "stream",
     "text": [
      "['cat', 'cow', 'dog']\n"
     ]
    }
   ],
   "source": [
    "list1 = ['cat','cow','dog']\n",
    "print(list1)"
   ]
  },
  {
   "cell_type": "code",
   "execution_count": 23,
   "metadata": {
    "collapsed": false
   },
   "outputs": [
    {
     "name": "stdout",
     "output_type": "stream",
     "text": [
      "['cat', 'cow', 'dog', 'goat']\n"
     ]
    }
   ],
   "source": [
    "list1.append('goat')\n",
    "print(list1)"
   ]
  },
  {
   "cell_type": "code",
   "execution_count": 24,
   "metadata": {
    "collapsed": false
   },
   "outputs": [
    {
     "name": "stdout",
     "output_type": "stream",
     "text": [
      "['cat', 'cow', 'dog', 'goat', 125]\n"
     ]
    }
   ],
   "source": [
    "list1.append(125)\n",
    "print(list1)"
   ]
  },
  {
   "cell_type": "code",
   "execution_count": 25,
   "metadata": {
    "collapsed": false
   },
   "outputs": [
    {
     "name": "stdout",
     "output_type": "stream",
     "text": [
      "['cat', 'cow', 'dog', 'goat', 125, ['parrot', 'penguin']]\n"
     ]
    }
   ],
   "source": [
    "list1.append(['parrot','penguin'])\n",
    "print(list1)"
   ]
  },
  {
   "cell_type": "markdown",
   "metadata": {},
   "source": [
    "list.extend() method is used to append each element of one list to another list."
   ]
  },
  {
   "cell_type": "code",
   "execution_count": 26,
   "metadata": {
    "collapsed": false
   },
   "outputs": [
    {
     "name": "stdout",
     "output_type": "stream",
     "text": [
      "['penguin', 'parrot', 'crane']\n"
     ]
    }
   ],
   "source": [
    "list2 = ['penguin','parrot','crane']\n",
    "print(list2)"
   ]
  },
  {
   "cell_type": "code",
   "execution_count": 27,
   "metadata": {
    "collapsed": false
   },
   "outputs": [
    {
     "name": "stdout",
     "output_type": "stream",
     "text": [
      "['penguin', 'parrot', 'crane', 'sparrow', 'goose']\n"
     ]
    }
   ],
   "source": [
    "list3=['sparrow','goose']\n",
    "list2.extend(list3)\n",
    "print(list2)"
   ]
  },
  {
   "cell_type": "markdown",
   "metadata": {},
   "source": [
    "Next lets look at list.insert() method which is used to insert an item at a particular location. Lets say, we want to insert 'owl' in the third position (or second index since index in python starts with 0). we can use list.insert methods which takes 2 arguments, first one is the index where you want to insert and second is the value of the item which we wan to insert."
   ]
  },
  {
   "cell_type": "code",
   "execution_count": 28,
   "metadata": {
    "collapsed": false
   },
   "outputs": [
    {
     "name": "stdout",
     "output_type": "stream",
     "text": [
      "['penguin', 'parrot', 'crane', 'sparrow', 'goose']\n"
     ]
    }
   ],
   "source": [
    "list2=['penguin', 'parrot', 'crane', 'sparrow', 'goose']\n",
    "print(list2)"
   ]
  },
  {
   "cell_type": "code",
   "execution_count": 29,
   "metadata": {
    "collapsed": true
   },
   "outputs": [],
   "source": [
    "list2.insert(2,'owl')"
   ]
  },
  {
   "cell_type": "markdown",
   "metadata": {},
   "source": [
    "Lets say we want to insert duck after sparrow. In order to do this we need to get the index of sparrow. list.index method can be used to fetch the index of an item in the list. We can see that the index of sparrow is 4.. In order to insert duck after saprrow, we need to insert it in the 5th index, which is nothing but one index more of sparrow,"
   ]
  },
  {
   "cell_type": "code",
   "execution_count": 30,
   "metadata": {
    "collapsed": false
   },
   "outputs": [
    {
     "name": "stdout",
     "output_type": "stream",
     "text": [
      "4\n"
     ]
    }
   ],
   "source": [
    "Sparrowindex = list2.index('sparrow')\n",
    "print(Sparrowindex)"
   ]
  },
  {
   "cell_type": "code",
   "execution_count": 31,
   "metadata": {
    "collapsed": false
   },
   "outputs": [
    {
     "name": "stdout",
     "output_type": "stream",
     "text": [
      "['penguin', 'parrot', 'owl', 'crane', 'sparrow', 'duck', 'goose']\n"
     ]
    }
   ],
   "source": [
    "list2.insert(Sparrowindex+1 , 'duck')\n",
    "print(list2)"
   ]
  },
  {
   "cell_type": "markdown",
   "metadata": {},
   "source": [
    "next we shall see list.remove method which removes an element from the list."
   ]
  },
  {
   "cell_type": "code",
   "execution_count": 32,
   "metadata": {
    "collapsed": false
   },
   "outputs": [
    {
     "name": "stdout",
     "output_type": "stream",
     "text": [
      "['penguin', 'parrot', 'owl', 'crane']\n"
     ]
    }
   ],
   "source": [
    "list2 = ['penguin', 'parrot', 'owl','crane']\n",
    "print(list2)"
   ]
  },
  {
   "cell_type": "code",
   "execution_count": 33,
   "metadata": {
    "collapsed": false
   },
   "outputs": [
    {
     "name": "stdout",
     "output_type": "stream",
     "text": [
      "['penguin', 'owl', 'crane']\n"
     ]
    }
   ],
   "source": [
    "list2.remove('parrot')\n",
    "print(list2)"
   ]
  },
  {
   "cell_type": "markdown",
   "metadata": {},
   "source": [
    "The list.pop method removes and returns us the element from the list. The list.pop method without any argument passed will return us the last item from the list."
   ]
  },
  {
   "cell_type": "code",
   "execution_count": 34,
   "metadata": {
    "collapsed": false
   },
   "outputs": [
    {
     "name": "stdout",
     "output_type": "stream",
     "text": [
      "['penguin', 'parrot', 'owl', 'crane']\n"
     ]
    }
   ],
   "source": [
    "list2 = ['penguin', 'parrot', 'owl','crane']\n",
    "print(list2)"
   ]
  },
  {
   "cell_type": "code",
   "execution_count": 35,
   "metadata": {
    "collapsed": false
   },
   "outputs": [
    {
     "name": "stdout",
     "output_type": "stream",
     "text": [
      "crane\n",
      "['penguin', 'parrot', 'owl']\n"
     ]
    }
   ],
   "source": [
    "popped = list2.pop()\n",
    "print(popped)\n",
    "print(list2)"
   ]
  },
  {
   "cell_type": "markdown",
   "metadata": {},
   "source": [
    "We can also pass the index of an element to the list.pop method so that it returns the item of the given index."
   ]
  },
  {
   "cell_type": "code",
   "execution_count": 36,
   "metadata": {
    "collapsed": false
   },
   "outputs": [
    {
     "name": "stdout",
     "output_type": "stream",
     "text": [
      "parrot\n",
      "['penguin', 'owl']\n"
     ]
    }
   ],
   "source": [
    "popped1 = list2.pop(1)\n",
    "print(popped1)\n",
    "print(list2)"
   ]
  },
  {
   "cell_type": "markdown",
   "metadata": {},
   "source": [
    "The list.sort method can be used to sort the list either in ascending or descending order. By default if we do not pass any argument, the method will sort the list in ascending order. If we want to sort the list in descending order, we have to pass an argument reverse=True."
   ]
  },
  {
   "cell_type": "code",
   "execution_count": 37,
   "metadata": {
    "collapsed": false
   },
   "outputs": [
    {
     "name": "stdout",
     "output_type": "stream",
     "text": [
      "[6, 1, 3, 8, 5]\n"
     ]
    }
   ],
   "source": [
    "list3 = [6,1,3,8,5]\n",
    "print(list3)"
   ]
  },
  {
   "cell_type": "code",
   "execution_count": 38,
   "metadata": {
    "collapsed": false
   },
   "outputs": [
    {
     "name": "stdout",
     "output_type": "stream",
     "text": [
      "[1, 3, 5, 6, 8]\n"
     ]
    }
   ],
   "source": [
    "list3.sort()\n",
    "print(list3)"
   ]
  },
  {
   "cell_type": "code",
   "execution_count": 39,
   "metadata": {
    "collapsed": false
   },
   "outputs": [
    {
     "name": "stdout",
     "output_type": "stream",
     "text": [
      "[8, 6, 5, 3, 1]\n"
     ]
    }
   ],
   "source": [
    "list3.sort(reverse=True)\n",
    "print(list3)"
   ]
  },
  {
   "cell_type": "markdown",
   "metadata": {},
   "source": [
    "The list.reverse method is used to reverse the list items. Please note that it is simply reversing the list items..... not sorting them in descending order."
   ]
  },
  {
   "cell_type": "code",
   "execution_count": 40,
   "metadata": {
    "collapsed": false
   },
   "outputs": [
    {
     "name": "stdout",
     "output_type": "stream",
     "text": [
      "[6, 1, 3, 8, 5]\n"
     ]
    }
   ],
   "source": [
    "list3 = [6,1,3,8,5]\n",
    "print(list3)"
   ]
  },
  {
   "cell_type": "code",
   "execution_count": 41,
   "metadata": {
    "collapsed": false
   },
   "outputs": [
    {
     "name": "stdout",
     "output_type": "stream",
     "text": [
      "[5, 8, 3, 1, 6]\n"
     ]
    }
   ],
   "source": [
    "list3.reverse()\n",
    "print(list3)"
   ]
  },
  {
   "cell_type": "markdown",
   "metadata": {},
   "source": [
    "Next we will see len method to get the length or number of items in a list."
   ]
  },
  {
   "cell_type": "code",
   "execution_count": 42,
   "metadata": {
    "collapsed": false
   },
   "outputs": [
    {
     "name": "stdout",
     "output_type": "stream",
     "text": [
      "['penguin', 'owl', 'sparrow', 'duck']\n"
     ]
    }
   ],
   "source": [
    "list3 = ['penguin', 'owl', 'sparrow', 'duck']\n",
    "print(list3)"
   ]
  },
  {
   "cell_type": "code",
   "execution_count": 43,
   "metadata": {
    "collapsed": false
   },
   "outputs": [
    {
     "name": "stdout",
     "output_type": "stream",
     "text": [
      "4\n"
     ]
    }
   ],
   "source": [
    "length=len(list3)\n",
    "print(length)"
   ]
  },
  {
   "cell_type": "markdown",
   "metadata": {},
   "source": [
    "Next lets see min and max functions to find the minimum or maximum value in a list."
   ]
  },
  {
   "cell_type": "code",
   "execution_count": 44,
   "metadata": {
    "collapsed": false
   },
   "outputs": [
    {
     "name": "stdout",
     "output_type": "stream",
     "text": [
      "[5, 8, 3, 1, 6]\n"
     ]
    }
   ],
   "source": [
    "list3 = [5, 8, 3, 1, 6]\n",
    "print(list3)"
   ]
  },
  {
   "cell_type": "code",
   "execution_count": 45,
   "metadata": {
    "collapsed": false
   },
   "outputs": [
    {
     "name": "stdout",
     "output_type": "stream",
     "text": [
      "8\n"
     ]
    }
   ],
   "source": [
    "maxValue = max(list3)\n",
    "print(maxValue)"
   ]
  },
  {
   "cell_type": "code",
   "execution_count": 46,
   "metadata": {
    "collapsed": false
   },
   "outputs": [
    {
     "name": "stdout",
     "output_type": "stream",
     "text": [
      "1\n"
     ]
    }
   ],
   "source": [
    "minValue = min(list3)\n",
    "print(minValue)"
   ]
  },
  {
   "cell_type": "markdown",
   "metadata": {},
   "source": [
    "Next we shall see list.count method to find how many time an item appears in the list. Lets say we want to find the number of times the letter 'A' appears in the list."
   ]
  },
  {
   "cell_type": "code",
   "execution_count": 47,
   "metadata": {
    "collapsed": false
   },
   "outputs": [
    {
     "name": "stdout",
     "output_type": "stream",
     "text": [
      "['A', 'A', 'B', 'C', 'A']\n"
     ]
    }
   ],
   "source": [
    "list4 = ['A','A','B','C','A']\n",
    "print(list4)"
   ]
  },
  {
   "cell_type": "code",
   "execution_count": 48,
   "metadata": {
    "collapsed": false
   },
   "outputs": [
    {
     "name": "stdout",
     "output_type": "stream",
     "text": [
      "3\n"
     ]
    }
   ],
   "source": [
    "countA = list4.count('A')\n",
    "print(countA)"
   ]
  },
  {
   "cell_type": "markdown",
   "metadata": {},
   "source": [
    "list.clear method to remove all the elements in the list."
   ]
  },
  {
   "cell_type": "code",
   "execution_count": 49,
   "metadata": {
    "collapsed": false
   },
   "outputs": [
    {
     "name": "stdout",
     "output_type": "stream",
     "text": [
      "['A', 'A', 'B', 'C', 'A']\n"
     ]
    }
   ],
   "source": [
    "list4 = ['A','A','B','C','A']\n",
    "print(list4)"
   ]
  },
  {
   "cell_type": "code",
   "execution_count": 50,
   "metadata": {
    "collapsed": false
   },
   "outputs": [
    {
     "name": "stdout",
     "output_type": "stream",
     "text": [
      "[]\n"
     ]
    }
   ],
   "source": [
    "list4.clear()\n",
    "print(list4)"
   ]
  },
  {
   "cell_type": "markdown",
   "metadata": {},
   "source": [
    "To check if an item exists in the list. If we need to check if an item exists in the list, one of the way is to use if statement."
   ]
  },
  {
   "cell_type": "code",
   "execution_count": 51,
   "metadata": {
    "collapsed": false
   },
   "outputs": [
    {
     "name": "stdout",
     "output_type": "stream",
     "text": [
      "list5 has 'dog'\n"
     ]
    }
   ],
   "source": [
    "list5 = ['cat','dog','squirrel']\n",
    "if 'dog' in list5:\n",
    "    print(\"list5 has 'dog'\")"
   ]
  },
  {
   "cell_type": "markdown",
   "metadata": {},
   "source": [
    "Next we shall look at different ways of indexing the python list. the indexing of list starts from zero..That means if you want first element, you have to pass index as 0... For 5th element, need to pass index as 4. Lets try to fetch the first element by passing index as 0.. The index needs to be passed in the square braces."
   ]
  },
  {
   "cell_type": "code",
   "execution_count": 52,
   "metadata": {
    "collapsed": false
   },
   "outputs": [
    {
     "name": "stdout",
     "output_type": "stream",
     "text": [
      "2\n"
     ]
    }
   ],
   "source": [
    "list6 = [2,4,6,8,10,12,14,16,18,20]\n",
    "firstItem =list6[0]\n",
    "print(firstItem)"
   ]
  },
  {
   "cell_type": "markdown",
   "metadata": {},
   "source": [
    "To get the last item, you need can pass -1 in index. We can also get last item with this code.. lastItem=list6[len(list6)-1]. To get the last second item, we can write list6[-2]"
   ]
  },
  {
   "cell_type": "code",
   "execution_count": 53,
   "metadata": {
    "collapsed": false
   },
   "outputs": [
    {
     "name": "stdout",
     "output_type": "stream",
     "text": [
      "20\n",
      "20\n",
      "18\n"
     ]
    }
   ],
   "source": [
    "lastItem =  list6[-1]\n",
    "print(lastItem)\n",
    "\n",
    "lastItem=list6[len(list6)-1]\n",
    "print(lastItem)\n",
    "\n",
    "lastSec = list6[-2]\n",
    "print(lastSec)"
   ]
  },
  {
   "cell_type": "markdown",
   "metadata": {},
   "source": [
    "Next lets look at Slicing examples. Slicing basically helps in fetching specific portion of our list.... This can be achieved by passing the starting and end index."
   ]
  },
  {
   "cell_type": "code",
   "execution_count": 54,
   "metadata": {
    "collapsed": false
   },
   "outputs": [
    {
     "data": {
      "text/plain": [
       "[2, 4, 6]"
      ]
     },
     "execution_count": 54,
     "metadata": {},
     "output_type": "execute_result"
    }
   ],
   "source": [
    "list6 = [2,4,6,8,10,12,14,16,18,20]\n",
    "list6[0:3]"
   ]
  },
  {
   "cell_type": "markdown",
   "metadata": {},
   "source": [
    "Next we will look at slicing with increment or skipping.... We can basically pass one more number after end index which basically skips the next element."
   ]
  },
  {
   "cell_type": "code",
   "execution_count": 56,
   "metadata": {
    "collapsed": false
   },
   "outputs": [
    {
     "name": "stdout",
     "output_type": "stream",
     "text": [
      "[2, 6, 10]\n",
      "[2, 8]\n"
     ]
    }
   ],
   "source": [
    "list6 = [2,4,6,8,10,12,14,16,18,20]\n",
    "\n",
    "print(list6[0:5:2])\n",
    "\n",
    "print(list6[0:5:3])"
   ]
  },
  {
   "cell_type": "markdown",
   "metadata": {},
   "source": [
    "Slicing in reverse order: In order to slice the list in reverse order, we need to write -1 as the step number."
   ]
  },
  {
   "cell_type": "code",
   "execution_count": 58,
   "metadata": {
    "collapsed": false
   },
   "outputs": [
    {
     "name": "stdout",
     "output_type": "stream",
     "text": [
      "[20, 18, 16, 14, 12, 10, 8, 6, 4, 2]\n",
      "[12, 10, 8, 6, 4]\n"
     ]
    }
   ],
   "source": [
    "list6 = [2,4,6,8,10,12,14,16,18,20]\n",
    "\n",
    "print(list6[::-1])\n",
    "\n",
    "print(list6[5:0:-1])"
   ]
  },
  {
   "cell_type": "markdown",
   "metadata": {},
   "source": [
    "there is fuction called reversed, which helps in iterating a list in reverse order."
   ]
  },
  {
   "cell_type": "code",
   "execution_count": 59,
   "metadata": {
    "collapsed": false
   },
   "outputs": [
    {
     "name": "stdout",
     "output_type": "stream",
     "text": [
      "20\n",
      "18\n",
      "16\n",
      "14\n",
      "12\n",
      "10\n",
      "8\n",
      "6\n",
      "4\n",
      "2\n"
     ]
    }
   ],
   "source": [
    "list6 = [2,4,6,8,10,12,14,16,18,20]\n",
    "\n",
    "for i in reversed(list6):\n",
    "    print(i)"
   ]
  },
  {
   "cell_type": "markdown",
   "metadata": {},
   "source": [
    "Lets see some more slicing examples. list6[:5] .... if we skip the starting index, it will slice from index 0..In our example, elements from index 0 to index 4 will be fetched. list6[5:] ... If we skip the end index, everything from starting index to last index will be fetched..Even last element will be fetched."
   ]
  },
  {
   "cell_type": "code",
   "execution_count": 60,
   "metadata": {
    "collapsed": false
   },
   "outputs": [
    {
     "name": "stdout",
     "output_type": "stream",
     "text": [
      "[2, 4, 6, 8, 10]\n",
      "[12, 14, 16, 18, 20]\n"
     ]
    }
   ],
   "source": [
    "list6 = [2,4,6,8,10,12,14,16,18,20]\n",
    "\n",
    "print(list6[:5])\n",
    "\n",
    "print(list6[5:])"
   ]
  },
  {
   "cell_type": "markdown",
   "metadata": {},
   "source": [
    "Next we shall look at Slice Assignement.. Slice assignment is used to insert or replace items of one list inside another list at particular location.. Lets say we want to insert the list [10,20] starting from index 1 of list6. We can write list6[1:1]=[10,20]"
   ]
  },
  {
   "cell_type": "code",
   "execution_count": 61,
   "metadata": {
    "collapsed": false
   },
   "outputs": [
    {
     "name": "stdout",
     "output_type": "stream",
     "text": [
      "[2, 4, 6, 8, 10, 12, 14, 16, 18, 20]\n",
      "[2, 10, 20, 4, 6, 8, 10, 12, 14, 16, 18, 20]\n"
     ]
    }
   ],
   "source": [
    "list6 = [2,4,6,8,10,12,14,16,18,20]\n",
    "print(list6)\n",
    "\n",
    "list6[1:1]=[10,20]\n",
    "print(list6)"
   ]
  },
  {
   "cell_type": "markdown",
   "metadata": {},
   "source": [
    "In the next example, we shall replace items at index 1, 2 with [30,40] so we have to write...list6[1:3]=[30,40]"
   ]
  },
  {
   "cell_type": "code",
   "execution_count": 62,
   "metadata": {
    "collapsed": true
   },
   "outputs": [],
   "source": [
    "list6[1:3]=[30,40]"
   ]
  },
  {
   "cell_type": "markdown",
   "metadata": {},
   "source": [
    "Next, we will remove elements 30,40 using slicing assignment.. To do this, we need to simply write.. list6[1:3]=[]."
   ]
  },
  {
   "cell_type": "code",
   "execution_count": 63,
   "metadata": {
    "collapsed": true
   },
   "outputs": [],
   "source": [
    "list6[1:3]=[30,40]"
   ]
  },
  {
   "cell_type": "markdown",
   "metadata": {},
   "source": [
    "Next we shall understand how to copy list.. Copying of list is some what tricky, we shall understand why so.. step by step. Lets assume we have a simple list a = [1,2,3] ... so if we want to make a copy of this list and assign it to another variable b, we can simply write b=a...so b also has same items as a.... ok this is fine, now lets try to alter the first element of a by writing a[0]=20... now we see that a has changed to 20,2,3.. But, let us just check the value of b, it should still be [1,2,3] right?....Lets print b....we can see that even b value is [20,2,3]...But why did this happen....actually if you write b=a to copy the list a, you are not copying the values of list a to list b, you are basically copying the address of list a to b.. so a and b, both are pointing to same list.."
   ]
  },
  {
   "cell_type": "code",
   "execution_count": 65,
   "metadata": {
    "collapsed": false
   },
   "outputs": [
    {
     "name": "stdout",
     "output_type": "stream",
     "text": [
      "[1, 2, 3]\n",
      "[1, 2, 3]\n",
      "[20, 2, 3]\n",
      "[20, 2, 3]\n"
     ]
    }
   ],
   "source": [
    "a = [1,2,3]\n",
    "print(a)\n",
    "b=a\n",
    "\n",
    "print(b)\n",
    "\n",
    "a[0]=20\n",
    "print(a)\n",
    "\n",
    "print(b)"
   ]
  },
  {
   "cell_type": "markdown",
   "metadata": {},
   "source": [
    "lets create the list a again.. a=[1,2,3]...so in order to copy values of list a to b, we should write b=list(a).. So even if we change the values of list a now, the values of b will remain same."
   ]
  },
  {
   "cell_type": "code",
   "execution_count": 66,
   "metadata": {
    "collapsed": false
   },
   "outputs": [
    {
     "name": "stdout",
     "output_type": "stream",
     "text": [
      "[1, 2, 3]\n",
      "[1, 2, 3]\n",
      "[30, 2, 3]\n",
      "[1, 2, 3]\n"
     ]
    }
   ],
   "source": [
    "a=[1,2,3]\n",
    "print(a)\n",
    "\n",
    "b=list(a)\n",
    "print(b)\n",
    "\n",
    "a[0]=30\n",
    "print(a)\n",
    "\n",
    "print(b)"
   ]
  },
  {
   "cell_type": "markdown",
   "metadata": {},
   "source": [
    "But, there is one problem with this approach.. Lets understand what that is. Lets assume we have list of lists... Lets create one.. a = [[1,2,3],[4,5]] a is basically having two lists inside the main list lets copy this list to b using b = list(a) Now lets try to change a value of first inner list by writing a[0][0]=25... now we can see the value of first innner list in a is changed.... Now lets print b.....we can see that the value of first list in b is also changed....... basically the copy that we made, failed if the list has list items inside it."
   ]
  },
  {
   "cell_type": "code",
   "execution_count": 67,
   "metadata": {
    "collapsed": false
   },
   "outputs": [
    {
     "name": "stdout",
     "output_type": "stream",
     "text": [
      "[[1, 2, 3], [4, 5]]\n",
      "[[1, 2, 3], [4, 5]]\n",
      "[[25, 2, 3], [4, 5]]\n",
      "[[25, 2, 3], [4, 5]]\n"
     ]
    }
   ],
   "source": [
    "a = [[1,2,3],[4,5]]\n",
    "print(a)\n",
    "\n",
    "b = list(a)\n",
    "print(b)\n",
    "\n",
    "a[0][0]=25\n",
    "print(a)\n",
    "\n",
    "print(b)"
   ]
  },
  {
   "cell_type": "markdown",
   "metadata": {},
   "source": [
    "To solve this,  we need to deep copy the list. Lets see how we can deep copy a list. so lets create our list again, which contains 2 lists inside it. a = [[1,2,3],[4,5]] SO in order to deep copy a list, we have import a module called copy.... now lets copy the list a to list b using deep copy. The lets try changing an element in first inner list of a with a[0][0] = 25. lets print a and b..we can observe that only a has changed now.."
   ]
  },
  {
   "cell_type": "code",
   "execution_count": 68,
   "metadata": {
    "collapsed": false
   },
   "outputs": [
    {
     "name": "stdout",
     "output_type": "stream",
     "text": [
      "[[1, 2, 3], [4, 5]]\n",
      "[[1, 2, 3], [4, 5]]\n",
      "[[25, 2, 3], [4, 5]]\n",
      "[[1, 2, 3], [4, 5]]\n"
     ]
    }
   ],
   "source": [
    "a = [[1,2,3],[4,5]]\n",
    "print(a)\n",
    "\n",
    "\n",
    "import copy\n",
    "b=copy.deepcopy(a)\n",
    "print(b)\n",
    "\n",
    "\n",
    "a[0][0] = 25\n",
    "print(a)\n",
    "\n",
    "\n",
    "print(b)"
   ]
  },
  {
   "cell_type": "markdown",
   "metadata": {},
   "source": [
    "Lets understand how to use for loops on lists.. Lets create a list a = ['cat','dog','duck','parrot'].. Basically we can loop through in 2 ways... Lets see first one where we are looping each item i in the list and printing it."
   ]
  },
  {
   "cell_type": "code",
   "execution_count": 69,
   "metadata": {
    "collapsed": false
   },
   "outputs": [
    {
     "name": "stdout",
     "output_type": "stream",
     "text": [
      "cat\n",
      "dog\n",
      "duck\n",
      "parrot\n"
     ]
    }
   ],
   "source": [
    "a = ['cat','dog','duck','parrot']\n",
    "\n",
    "for i in a:\n",
    "    print(i)"
   ]
  },
  {
   "cell_type": "markdown",
   "metadata": {},
   "source": [
    "Second method is to loop through the index of our list. So once you have the index i, you can get the value in that index using a[i]."
   ]
  },
  {
   "cell_type": "code",
   "execution_count": 71,
   "metadata": {
    "collapsed": false
   },
   "outputs": [
    {
     "name": "stdout",
     "output_type": "stream",
     "text": [
      "index: 0 | value: cat\n",
      "index: 1 | value: dog\n",
      "index: 2 | value: duck\n",
      "index: 3 | value: parrot\n"
     ]
    }
   ],
   "source": [
    "for i in range(0,len(a)):\n",
    "    print(\"index: \"+str(i) +\" | value: \"+a[i])"
   ]
  },
  {
   "cell_type": "markdown",
   "metadata": {},
   "source": [
    "Lest see how to join all the contents in the list in to a string... lets create a list lst = [\"Hello\",\"World!!\",\"Python\",\"is\",\"awesome\"] In order to join each word in this list with a space in between, we can write lststr = \" \".join(lst) Instead of space, lets say you want to join with hyphen(-) in between, we can write, lststr2 = \"-\".join(lst)"
   ]
  },
  {
   "cell_type": "code",
   "execution_count": 73,
   "metadata": {
    "collapsed": false
   },
   "outputs": [
    {
     "name": "stdout",
     "output_type": "stream",
     "text": [
      "Hello World!! Python is awesome\n",
      "Hello-World!!-Python-is-awesome\n"
     ]
    }
   ],
   "source": [
    "lst = [\"Hello\",\"World!!\",\"Python\",\"is\",\"awesome\"]\n",
    "\n",
    "lststr = \" \".join(lst)\n",
    "print(lststr)\n",
    "\n",
    "lststr2 = \"-\".join(lst)\n",
    "print(lststr2)"
   ]
  },
  {
   "cell_type": "markdown",
   "metadata": {},
   "source": [
    "Next, lets see how to convert a list of lists in to a flat list. So in order to convert it to a flat list, we use a module called itertools."
   ]
  },
  {
   "cell_type": "code",
   "execution_count": 74,
   "metadata": {
    "collapsed": false
   },
   "outputs": [
    {
     "name": "stdout",
     "output_type": "stream",
     "text": [
      "[[1, 2, 3], [4, 5, 6], [7], [8, 9]]\n",
      "[1, 2, 3, 4, 5, 6, 7, 8, 9]\n"
     ]
    }
   ],
   "source": [
    "listoflists = [[1,2,3],[4,5,6], [7], [8,9]]\n",
    "print(listoflists)\n",
    "\n",
    "import itertools\n",
    "flat_list = list(itertools.chain(*listoflists))\n",
    "print(flat_list)"
   ]
  },
  {
   "cell_type": "markdown",
   "metadata": {},
   "source": [
    "Next lets see if list has duplicate elements. So lets print all the items which are repeating.. to do this, we can write.. [i for i in lst if lst.count(i) > 1] basically we are just filtering those items which are repeating (meaning their count is more than 1).   So if we want to see the unique values, we can convert the list to set uniqe = set(lst2). If you need to convert it back to list, we can do so by writing uniqe = list(lst2)"
   ]
  },
  {
   "cell_type": "code",
   "execution_count": 76,
   "metadata": {
    "collapsed": false
   },
   "outputs": [
    {
     "name": "stdout",
     "output_type": "stream",
     "text": [
      "[3, 3, 5, 5, 6, 6, 6]\n",
      "{3, 5, 6}\n",
      "{3, 5, 6}\n"
     ]
    }
   ],
   "source": [
    "lst = [1,2,3,3,4,5,5,6,6,6]\n",
    "\n",
    "lst2=[i for i in lst if lst.count(i) > 1]\n",
    "print(lst2)\n",
    "\n",
    "unique = set(lst2)\n",
    "print(unique)\n",
    "\n",
    "\n",
    "\n",
    "uniqe = list(lst2)\n",
    "print(unique)"
   ]
  },
  {
   "cell_type": "markdown",
   "metadata": {},
   "source": [
    "Next we shall see how to shift or rotate our list. In order to rotate our list we can do so by importing a module called deque inside the collections.. we shall convert our list to deque lst2 = deque(lst2) Lets try to rotate our list to right by writing lst2.rotate(1) Similarly, for left shift, we can write lst2.rotate(-1)"
   ]
  },
  {
   "cell_type": "code",
   "execution_count": 77,
   "metadata": {
    "collapsed": false
   },
   "outputs": [
    {
     "name": "stdout",
     "output_type": "stream",
     "text": [
      "[1, 2, 3]\n",
      "deque([1, 2, 3])\n",
      "deque([3, 1, 2])\n",
      "deque([1, 2, 3])\n",
      "[1, 2, 3]\n"
     ]
    }
   ],
   "source": [
    "lst2 = [1,2,3]\n",
    "print(lst2)\n",
    "\n",
    "\n",
    "from collections import deque\n",
    "lst2 = deque(lst2)\n",
    "print(lst2)\n",
    "\n",
    "\n",
    "lst2.rotate(1)\n",
    "print(lst2)\n",
    "\n",
    "\n",
    "lst2.rotate(-1)\n",
    "print(lst2)\n",
    "\n",
    "\n",
    "lst2=list(lst2)\n",
    "print(lst2)"
   ]
  },
  {
   "cell_type": "code",
   "execution_count": null,
   "metadata": {
    "collapsed": true
   },
   "outputs": [],
   "source": []
  }
 ],
 "metadata": {
  "kernelspec": {
   "display_name": "Python 3",
   "language": "python",
   "name": "python3"
  },
  "language_info": {
   "codemirror_mode": {
    "name": "ipython",
    "version": 3
   },
   "file_extension": ".py",
   "mimetype": "text/x-python",
   "name": "python",
   "nbconvert_exporter": "python",
   "pygments_lexer": "ipython3",
   "version": "3.6.0"
  }
 },
 "nbformat": 4,
 "nbformat_minor": 2
}
