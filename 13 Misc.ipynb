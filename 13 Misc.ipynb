{
 "cells": [
  {
   "cell_type": "markdown",
   "metadata": {},
   "source": [
    "## Exception Handling"
   ]
  },
  {
   "cell_type": "raw",
   "metadata": {},
   "source": [
    "Exceptions can occur due to programming errors, user errors, or unexpected conditions like no internet access. Exceptions themselves are objects that contain information about what went wrong. "
   ]
  },
  {
   "cell_type": "raw",
   "metadata": {},
   "source": [
    "references:\n",
    "https://medium.com/district-data-labs/python-exception-handling-basics-b29435a8354a\n",
    "https://medium.com/the-python-corner/working-with-exception-in-python-7a04f1ca1e98"
   ]
  },
  {
   "cell_type": "raw",
   "metadata": {},
   "source": [
    "Here are a few common exception types:\n",
    "\n",
    "SyntaxError: raised when the programmer has made a mistake typing Python code correctly.\n",
    "AttributeError: attempting to access an attribute on an object that does not exist\n",
    "KeyError: attempting to access a key in a dictionary that does not exist\n",
    "TypeError: raised when an argument to a function is not the right type (e.g. a str instead of int)\n",
    "ValueError: when an argument to a function is the right type but not in the right domain (e.g. an empty string)\n",
    "ImportError: raised when an import fails\n",
    "IOError: raised when Python cannot access a file correctly on disk"
   ]
  },
  {
   "cell_type": "code",
   "execution_count": 1,
   "metadata": {
    "collapsed": false
   },
   "outputs": [
    {
     "ename": "ZeroDivisionError",
     "evalue": "division by zero",
     "output_type": "error",
     "traceback": [
      "\u001b[0;31m---------------------------------------------------------------------------\u001b[0m",
      "\u001b[0;31mZeroDivisionError\u001b[0m                         Traceback (most recent call last)",
      "\u001b[0;32m<ipython-input-1-087b2bb2fa2e>\u001b[0m in \u001b[0;36m<module>\u001b[0;34m()\u001b[0m\n\u001b[1;32m      1\u001b[0m \u001b[1;31m#divide by zero exception:\u001b[0m\u001b[1;33m\u001b[0m\u001b[1;33m\u001b[0m\u001b[0m\n\u001b[0;32m----> 2\u001b[0;31m \u001b[0mc\u001b[0m \u001b[1;33m=\u001b[0m \u001b[1;36m5\u001b[0m\u001b[1;33m/\u001b[0m\u001b[1;36m0\u001b[0m\u001b[1;33m\u001b[0m\u001b[0m\n\u001b[0m\u001b[1;32m      3\u001b[0m \u001b[0mprint\u001b[0m\u001b[1;33m(\u001b[0m\u001b[0mc\u001b[0m\u001b[1;33m)\u001b[0m\u001b[1;33m\u001b[0m\u001b[0m\n",
      "\u001b[0;31mZeroDivisionError\u001b[0m: division by zero"
     ]
    }
   ],
   "source": [
    "#divide by zero exception:\n",
    "c = 5/0\n",
    "print(c)"
   ]
  },
  {
   "cell_type": "raw",
   "metadata": {},
   "source": [
    "Handling exception:\n",
    "Handle an exception means to define what to do when a specific exception happens, so that the execution can proceed smoothly.\n",
    "\n",
    "The basic way to handle an exception is by using the try statement. Basically, we need to specify what we want to do, which kind of exceptions we do expect and what to do when one of this exceptions is raised."
   ]
  },
  {
   "cell_type": "code",
   "execution_count": 3,
   "metadata": {
    "collapsed": false
   },
   "outputs": [
    {
     "name": "stdout",
     "output_type": "stream",
     "text": [
      "zero division error occured\n"
     ]
    }
   ],
   "source": [
    "try:\n",
    "    c = 5/0\n",
    "    print(c)\n",
    "except ZeroDivisionError:\n",
    "    print(\"zero division error occured\")"
   ]
  },
  {
   "cell_type": "raw",
   "metadata": {},
   "source": [
    "It’s worth to be noted that we can use more except clauses for a single try block."
   ]
  },
  {
   "cell_type": "code",
   "execution_count": 5,
   "metadata": {
    "collapsed": false
   },
   "outputs": [
    {
     "name": "stdout",
     "output_type": "stream",
     "text": [
      "The file does not exist\n"
     ]
    }
   ],
   "source": [
    "try:\n",
    "    f = open(\"myfile.txt\")\n",
    "    for line in f:\n",
    "        print(line)\n",
    "except FileNotFoundError:\n",
    "    print(\"The file does not exist\")\n",
    "except PermissionError:\n",
    "    print(\"You don't have the permission to open the file\")\n",
    "except Exception:\n",
    "    print(\"Unexpected error occured\")"
   ]
  },
  {
   "cell_type": "raw",
   "metadata": {},
   "source": [
    "Finally, you can have the need to execute some code after the try block is executed, whether or not the code in the try block has raised exceptions. In this case you can add a finally clause. For example:"
   ]
  },
  {
   "cell_type": "code",
   "execution_count": 10,
   "metadata": {
    "collapsed": false
   },
   "outputs": [
    {
     "name": "stdout",
     "output_type": "stream",
     "text": [
      "hello\n",
      "The file does not exist\n",
      "Finally block will get executed no matter what!\n"
     ]
    }
   ],
   "source": [
    "try:\n",
    "    print(\"hello\")\n",
    "    f = open(\"myfile.txt\")\n",
    "    for line in f:\n",
    "        print(line)\n",
    "except FileNotFoundError:\n",
    "    print(\"The file does not exist\")\n",
    "except PermissionError:\n",
    "    print(\"You don't have the permission to open the file\")\n",
    "except Exception:\n",
    "    print(\"Unexpected error occured\")\n",
    "finally:\n",
    "    print(\"Finally block will get executed no matter what!\")"
   ]
  },
  {
   "cell_type": "raw",
   "metadata": {},
   "source": [
    "Raising exception\n",
    "Now that we know what an exception is and how to handle exceptions, let’s see how is it possibile to raise exceptions by ourselves. Look at this code:"
   ]
  },
  {
   "cell_type": "code",
   "execution_count": 2,
   "metadata": {
    "collapsed": false
   },
   "outputs": [
    {
     "name": "stdout",
     "output_type": "stream",
     "text": [
      "Please, enter an integer: t\n",
      "The value inserted is not a number\n",
      "Please, enter an integer: 3\n",
      "You have inserted the value 3\n"
     ]
    }
   ],
   "source": [
    "def get_numeric_value_from_keyboard():\n",
    "    '''Get a value from keyboard, if the value is not a valid number, \n",
    "    raise a \"ValueError\" exception'''\n",
    "    input_value = input(\"Please, enter an integer: \")\n",
    "    if not input_value.isdigit():\n",
    "        raise ValueError(\"The value inserted is not a number\")\n",
    "    return input_value\n",
    "\n",
    "while True:\n",
    "    try:\n",
    "        numeric_value = get_numeric_value_from_keyboard()\n",
    "        print(\"You have inserted the value \" + str(numeric_value))\n",
    "        break\n",
    "    except ValueError as ex:\n",
    "        print(ex)"
   ]
  },
  {
   "cell_type": "markdown",
   "metadata": {},
   "source": [
    "## File Handling"
   ]
  },
  {
   "cell_type": "code",
   "execution_count": 1,
   "metadata": {
    "collapsed": true
   },
   "outputs": [],
   "source": [
    "#Reading/writing a file in python"
   ]
  },
  {
   "cell_type": "code",
   "execution_count": 2,
   "metadata": {
    "collapsed": true
   },
   "outputs": [],
   "source": [
    "file = open(\"E:/pythonCourse/Folder1/textFile2.txt\",\"w\") \n",
    " \n",
    "file.write(\"Hello World\\n\") \n",
    "file.write(\"This is our new text file\\n\") \n",
    "file.write(\"and this is another line.\") \n",
    "\n",
    " \n",
    "file.close() "
   ]
  },
  {
   "cell_type": "code",
   "execution_count": 3,
   "metadata": {
    "collapsed": false
   },
   "outputs": [
    {
     "name": "stdout",
     "output_type": "stream",
     "text": [
      "Hello World\n",
      "This is our new text file\n",
      "and this is another line.\n"
     ]
    }
   ],
   "source": [
    "file = open(\"E:/pythonCourse/Folder1/textFile2.txt\", \"r\") \n",
    "print(file.read()) "
   ]
  },
  {
   "cell_type": "code",
   "execution_count": 4,
   "metadata": {
    "collapsed": false
   },
   "outputs": [
    {
     "data": {
      "text/plain": [
       "['textFile1.txt', 'textFile2.txt']"
      ]
     },
     "execution_count": 4,
     "metadata": {},
     "output_type": "execute_result"
    }
   ],
   "source": [
    "#List all files in a directory\n",
    "import os\n",
    "os.listdir(\"E:/pythonCourse/Folder1/\")"
   ]
  },
  {
   "cell_type": "code",
   "execution_count": null,
   "metadata": {
    "collapsed": true
   },
   "outputs": [],
   "source": []
  }
 ],
 "metadata": {
  "kernelspec": {
   "display_name": "Python 3",
   "language": "python",
   "name": "python3"
  },
  "language_info": {
   "codemirror_mode": {
    "name": "ipython",
    "version": 3
   },
   "file_extension": ".py",
   "mimetype": "text/x-python",
   "name": "python",
   "nbconvert_exporter": "python",
   "pygments_lexer": "ipython3",
   "version": "3.6.0"
  }
 },
 "nbformat": 4,
 "nbformat_minor": 2
}
