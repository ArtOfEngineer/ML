{
 "cells": [
  {
   "cell_type": "code",
   "execution_count": 1,
   "metadata": {
    "collapsed": true
   },
   "outputs": [],
   "source": [
    "# Deep learning is a branch in Artificial Intelligence and Machine Learning.\n",
    "# Deep learning makes use of Neural Networks (also called as Artificial Neural networks)."
   ]
  },
  {
   "cell_type": "raw",
   "metadata": {},
   "source": [
    "What is a Neural Network ?\n",
    "     Neural Network is a mathematical model of a human brain. \n",
    "\n",
    "     This mathematical model does not completely represent the human brain, it just mimics the way human brain works in solving some of the real world problems like recognizing a familiar face, understanding the hand written digits etc.,\n",
    "\n",
    "      Before learning the Neural Networks (Artificial Neural Networks), we shall quickly learn the structure and functionality of a Real Neural Network which is nothing but neurons or nerve cells in the human Brain.\n",
    "\n",
    "    An average human brain consists of 100 billion neurons which are connected together in a highly complex manner. There are trillions of inter connections between them."
   ]
  },
  {
   "cell_type": "markdown",
   "metadata": {},
   "source": [
    "![title](img/dl1.png)"
   ]
  },
  {
   "cell_type": "raw",
   "metadata": {},
   "source": [
    "This is a simplified structure of a neuron. Let me explain the functionality of a neuron in 3 simple steps.\n",
    "\n",
    "1)The dendrites receives inputs from various types of sources like the skin, muscles and other neurons.\n",
    "\n",
    "2)The cell body sums up the input signals and if the sum is more than a certain threshold, it triggers the signal through axon to synaptic terminals.\n",
    "\n",
    "3)The synaptic terminals passes on these signals to other neurons or muscles via synapses (synapses is a point between two neurons. The exchange of chemical/electrical signals between two neurons happen in this area).\n",
    "\n",
    "     The signals near synaptic terminals are either excitatory (meaning: they can add to overall signal strength) or inhibitory (meaning: they can subtract from overall signal strength) "
   ]
  },
  {
   "cell_type": "markdown",
   "metadata": {},
   "source": [
    "Simple Artificial Neuron Model : The Mc Culloch-Pitts Model:\n",
    "![title](img/dl2.png)"
   ]
  },
  {
   "cell_type": "raw",
   "metadata": {},
   "source": [
    "  The Mc-Culloch pitts neuron model is a simple model which mimics the structure and functionality of a neuron/nerve cell.\n",
    "\n",
    "     The neuron(blue circle) in this case is just a summation function. It sums up all the inputs multiplied by their respective weights. The output from this neuron(Vk) is given by:"
   ]
  },
  {
   "cell_type": "markdown",
   "metadata": {},
   "source": [
    "![title](img/dl3.png)"
   ]
  },
  {
   "cell_type": "raw",
   "metadata": {},
   "source": [
    " McCulloch-Pitts model belongs to a class called as binary threshold neurons.\n",
    "\n",
    "     There are many other types of neurons like Linear neurons, Sigmoid neurons etc., which we shall discuss later."
   ]
  },
  {
   "cell_type": "raw",
   "metadata": {},
   "source": [
    "So  a neural network is basically just a bunch of neurons like these connected in a rather complicated way to achieve simple tasks which only humans are capable of doing."
   ]
  },
  {
   "cell_type": "markdown",
   "metadata": {},
   "source": [
    "![title](img/dl4.png)"
   ]
  },
  {
   "cell_type": "raw",
   "metadata": {},
   "source": [
    " Here is an example of a 3 layer neural network. The input layer is not usually considered for counting the total number of layers since it only has inputs(no neurons). There can be more than 1 hidden layers. In this case there are 2 hidden layers and an output layer."
   ]
  },
  {
   "cell_type": "code",
   "execution_count": null,
   "metadata": {
    "collapsed": true
   },
   "outputs": [],
   "source": []
  }
 ],
 "metadata": {
  "kernelspec": {
   "display_name": "Python 3",
   "language": "python",
   "name": "python3"
  },
  "language_info": {
   "codemirror_mode": {
    "name": "ipython",
    "version": 3
   },
   "file_extension": ".py",
   "mimetype": "text/x-python",
   "name": "python",
   "nbconvert_exporter": "python",
   "pygments_lexer": "ipython3",
   "version": "3.6.0"
  }
 },
 "nbformat": 4,
 "nbformat_minor": 2
}
