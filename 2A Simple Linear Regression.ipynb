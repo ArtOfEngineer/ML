{
 "cells": [
  {
   "cell_type": "raw",
   "metadata": {},
   "source": [
    "What is Linear Regression?\n",
    "    Linear regression is a statistical method of finding the relationship between independent and dependent variables.\n",
    "\n",
    "     To understand the theory, i am going to use some data. The data basically tells the number of hours studied and the marks scored in the exam by students."
   ]
  },
  {
   "cell_type": "raw",
   "metadata": {},
   "source": [
    "Hours\tMarks\n",
    "3\t     35\n",
    "4\t     50\n",
    "5\t     45\n",
    "6\t     64\n",
    "7\t     66\n",
    "8\t     70"
   ]
  },
  {
   "cell_type": "raw",
   "metadata": {},
   "source": [
    " In this table, Hours is an independent variable, Marks is a dependent variable. Lets assume we only have dependent variable(marks). For some reason we have not collected Hours data. We are asked to represent the given data so that we can predict the marks scored by other students. So the best you could do is just fit a line which shows the average value."
   ]
  },
  {
   "cell_type": "markdown",
   "metadata": {},
   "source": [
    "![title](img/LR1.png)"
   ]
  },
  {
   "cell_type": "markdown",
   "metadata": {},
   "source": [
    "Calculating the error:\n",
    "![title](img/LR9.png)"
   ]
  },
  {
   "cell_type": "raw",
   "metadata": {},
   "source": [
    "We have just plotted a constant line y=55 . The reason we have done this is to use this line as a reference and check how well we can fit a new line using linear regression. To compare the lines we use a metric called as  \"Sum of Squared errors\" (SSE) .\n"
   ]
  },
  {
   "cell_type": "raw",
   "metadata": {},
   "source": [
    "How to Calculate SSE?\n",
    "     For each data point, we should find the difference between actual value (for ex: 35) and predicted value (which is our average value:55). This difference is called \"error\" (for ex: 35-55=-20). Then we have to square this error ((-20*-20)=400) .  This process is repeated for all data points. Next we should sum all the squared errors calculated for all the data points. This will give SSE (sum of squared error).\n",
    "  Please refer the below table to understand the calculations\n"
   ]
  },
  {
   "cell_type": "markdown",
   "metadata": {},
   "source": [
    "![title](img/LR2.png)"
   ]
  },
  {
   "cell_type": "raw",
   "metadata": {},
   "source": [
    "So the Sum Of Squared Error (SSE) for a simple constant line which was fit to our data points  is 952.\n",
    "   So after we fit a best line by doing Linear Regression using the independent variable (Hours) , the SSE should reduce drastically. If SSE increases, then we are doing very bad job at fitting the line for our data.\n"
   ]
  },
  {
   "cell_type": "markdown",
   "metadata": {},
   "source": [
    "![title](img/LR3.png)"
   ]
  },
  {
   "cell_type": "raw",
   "metadata": {},
   "source": [
    "The Linear Regression uses Slope - Intercept form of a line. The equation of a line in slope intercept form is given by:\n",
    "y=mx+b\n",
    "'x' is our independent variable.\n",
    "'m' is the slope. It is measure to tell how steep our line.\n",
    "'b' is the intercept. It tells where the line crosses y-axis\n",
    "     The very idea of Linear Regression is to find the best combination of slope (m) and intercept (b) which minimizes the SSE . We are going to use method called as 'Ordinary Least Squared' to calculate the slope and intercept.\n"
   ]
  },
  {
   "cell_type": "raw",
   "metadata": {},
   "source": [
    "Ordinary Least Squares Method  :\n",
    "     Lets consider the equation of a line:\n",
    "\n",
    "y=mx+b\n",
    "\n",
    "In Ordinary least squared method, the formula for slope(m) is given by:\n",
    "Derviation: https://convert-calculate.com/math/linear-regression-using-ordinary-least-squares-calculator/"
   ]
  },
  {
   "cell_type": "markdown",
   "metadata": {},
   "source": [
    "![title](img/LR4.png)"
   ]
  },
  {
   "cell_type": "markdown",
   "metadata": {},
   "source": [
    "![title](img/LR5.png)"
   ]
  },
  {
   "cell_type": "markdown",
   "metadata": {
    "collapsed": true
   },
   "source": [
    "![title](img/LR6.png)"
   ]
  },
  {
   "cell_type": "raw",
   "metadata": {},
   "source": [
    "If we plot our line using this equation it should look something like this (you can plot it in excel or any other graphing tool like GeoGebra)\n",
    "y=6.914x+16.973"
   ]
  },
  {
   "cell_type": "markdown",
   "metadata": {},
   "source": [
    "![title](img/LR7.png)"
   ]
  },
  {
   "cell_type": "markdown",
   "metadata": {},
   "source": [
    "![title](img/LR8.png)"
   ]
  },
  {
   "cell_type": "raw",
   "metadata": {},
   "source": [
    "The error has reduced from 952 to 115.3 , So we have done a pretty good job in fitting the line to our data points using Linear Regression."
   ]
  },
  {
   "cell_type": "markdown",
   "metadata": {
    "collapsed": true
   },
   "source": []
  },
  {
   "cell_type": "code",
   "execution_count": null,
   "metadata": {
    "collapsed": true
   },
   "outputs": [],
   "source": []
  }
 ],
 "metadata": {
  "kernelspec": {
   "display_name": "Python 3",
   "language": "python",
   "name": "python3"
  },
  "language_info": {
   "codemirror_mode": {
    "name": "ipython",
    "version": 3
   },
   "file_extension": ".py",
   "mimetype": "text/x-python",
   "name": "python",
   "nbconvert_exporter": "python",
   "pygments_lexer": "ipython3",
   "version": "3.6.0"
  }
 },
 "nbformat": 4,
 "nbformat_minor": 2
}
