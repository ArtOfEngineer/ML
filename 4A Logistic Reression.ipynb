{
 "cells": [
  {
   "cell_type": "markdown",
   "metadata": {},
   "source": [
    "### What is Logistic Regression?\n",
    "     Logistic regression is used to predict the outcome variable which is categorical."
   ]
  },
  {
   "cell_type": "markdown",
   "metadata": {},
   "source": [
    "### What is a Categorical variable?\n",
    "     A categorical variable is a variable that can take only specific and limited values.\n",
    "\n",
    "example: \n",
    "     <br>yes/no , 0/1 etc,."
   ]
  },
  {
   "cell_type": "markdown",
   "metadata": {},
   "source": [
    "### Lets consider a scenario:\n",
    "     I have data of some students. The data is about hours studied before exam and whether they passed - yes/no (1/0) ."
   ]
  },
  {
   "cell_type": "code",
   "execution_count": 2,
   "metadata": {
    "collapsed": false
   },
   "outputs": [
    {
     "name": "stdout",
     "output_type": "stream",
     "text": [
      "hoursStudied    passed\n",
      "   1.0     -----> 0\n",
      "   1.5     -----> 0\n",
      "   2.0     -----> 0\n",
      "   2.5     -----> 0\n",
      "   3.0     -----> 0\n",
      "   3.5     -----> 0\n",
      "   3.6     -----> 0\n",
      "   4.2     -----> 0\n",
      "   4.5     -----> 0\n",
      "   5.4     -----> 0\n",
      "   6.8     -----> 1\n",
      "   6.9     -----> 0\n",
      "   7.2     -----> 0\n",
      "   7.4     -----> 1\n",
      "   8.1     -----> 1\n",
      "   8.2     -----> 1\n",
      "   8.5     -----> 1\n",
      "   9.4     -----> 1\n",
      "   9.5     -----> 1\n",
      "   10.2     -----> 1\n"
     ]
    }
   ],
   "source": [
    "hoursStudied=[[1.0],[1.5],[2.0],[2.5],[3.0],[3.5],[3.6],[4.2],[4.5],[5.4],\n",
    "              [6.8],[6.9],[7.2],[7.4],[8.1],[8.2],[8.5],[9.4],[9.5],[10.2]]\n",
    "passed =     [  0  ,0    ,  0  ,  0 , 0    ,0    ,  0  , 0   ,0    , 0   ,\n",
    "                1  , 0   , 0   , 1  ,   1  ,   1 , 1   ,   1 ,   1 ,   1 ]\n",
    "\n",
    "print(\"hoursStudied    passed\")\n",
    "for row in zip(hoursStudied, passed):\n",
    "    print(\"  \",row[0][0],\"    ----->\",row[1])"
   ]
  },
  {
   "cell_type": "code",
   "execution_count": 4,
   "metadata": {
    "collapsed": false
   },
   "outputs": [
    {
     "data": {
      "image/png": "[encoded data removed]",
      "text/plain": [
       "<matplotlib.figure.Figure at 0x2b9c5fc9e80>"
      ]
     },
     "metadata": {},
     "output_type": "display_data"
    }
   ],
   "source": [
    "#Lets plot the data and see how it looks:\n",
    "import matplotlib.pyplot as plt\n",
    "%matplotlib inline\n",
    "\n",
    "plt.scatter(hoursStudied,passed,color='black')\n",
    "plt.xlabel(\"hoursStudied\")\n",
    "plt.ylabel(\"passed\")\n",
    "plt.show()"
   ]
  },
  {
   "cell_type": "code",
   "execution_count": 5,
   "metadata": {
    "collapsed": true
   },
   "outputs": [],
   "source": [
    "#If we plot a normal linear regression over our data points, it looks like this:"
   ]
  },
  {
   "cell_type": "code",
   "execution_count": 8,
   "metadata": {
    "collapsed": true
   },
   "outputs": [],
   "source": [
    "#![title](img/2logreg1.PNG)"
   ]
  },
  {
   "cell_type": "markdown",
   "metadata": {},
   "source": [
    "![title](img/2logreg1.PNG)"
   ]
  },
  {
   "cell_type": "raw",
   "metadata": {},
   "source": [
    "We know that output should be either 0 or 1.\n",
    "     We can see that this regression is producing all sort of values between 0 and 1. That's not the actual problem.\n",
    "     It is also producing impossible values : negative values and values greater than 1 which has no meaning.\n",
    "     So we need a better regression line than this. Logistic Regression is something we should use here.\n",
    "The Logistic regression will fit our data points something like this:"
   ]
  },
  {
   "cell_type": "markdown",
   "metadata": {},
   "source": [
    "![title](img/2logreg2.PNG)"
   ]
  },
  {
   "cell_type": "raw",
   "metadata": {},
   "source": [
    "The Logistic Function:\n",
    "     Most often, we would want to predict our outcomes as YES/NO (1/0).\n",
    "\n",
    "For example:\n",
    "\n",
    "     Is your favorite football team going to win the match today? -- yes/no (0/1)\n",
    "\n",
    "     Does a student pass in exam? -- yes/no (0/1)\n",
    "\n",
    "The logistic function is given by:"
   ]
  },
  {
   "cell_type": "markdown",
   "metadata": {},
   "source": [
    "![title](img/2logreg3.PNG)"
   ]
  },
  {
   "cell_type": "raw",
   "metadata": {},
   "source": [
    "where\n",
    "          L - Curve's maximum value\n",
    "          k - Steepness of the curve\n",
    "          x0 - x value of Sigmoid's midpoint\n",
    "\n",
    "A standard logistic function is called sigmoid function (k=1,x_0=0,L=1)"
   ]
  },
  {
   "cell_type": "markdown",
   "metadata": {},
   "source": [
    "![title](img/2logreg4.PNG)"
   ]
  },
  {
   "cell_type": "raw",
   "metadata": {},
   "source": [
    "The sigmoid function gives an 'S' shaped curve.\n",
    "\n",
    "This curve has a finite limit of:\n",
    "\n",
    "     '0' as x approaches −∞\n",
    "\n",
    "     '1' as x approaches +∞\n",
    "\n",
    "The output of sigmoid function when x=0 is 0.5\n",
    "\n",
    "Thus, if the output is more tan 0.5 , we can classify the outcome as 1 (or YES) and if it is less than 0.5 , we can classify it as 0(or NO) .\n",
    "\n",
    "For example: If the output is 0.65, we can say in terms of probability as:\n",
    "\n",
    "     \"There is a 65 percent chance that your favorite foot ball team is going to win today \" .\n",
    "\n",
    "Thus the output of the sigmoid function can not be just used to classify YES/NO, it can also be used to determine the probability of YES/NO."
   ]
  },
  {
   "cell_type": "raw",
   "metadata": {},
   "source": [
    "Now we shall check how Logistic/Sigmoid functions works using Python.\n",
    "Imports:\n",
    "\n",
    "     We need math for writing the sigmoid function, numpy to define the values for X-axis , matplotlib."
   ]
  },
  {
   "cell_type": "code",
   "execution_count": 14,
   "metadata": {
    "collapsed": true
   },
   "outputs": [],
   "source": [
    "import math\n",
    "import matplotlib.pyplot as plt\n",
    "import numpy as np"
   ]
  },
  {
   "cell_type": "raw",
   "metadata": {},
   "source": [
    "Next we shall define the sigmoid function as described by  equation:"
   ]
  },
  {
   "cell_type": "code",
   "execution_count": 16,
   "metadata": {
    "collapsed": true
   },
   "outputs": [],
   "source": [
    "def sigmoid(x):\n",
    "    a = []\n",
    "    for item in x:\n",
    "               #(the sigmoid function)\n",
    "        a.append(1/(1+math.exp(-item)))\n",
    "    return a"
   ]
  },
  {
   "cell_type": "raw",
   "metadata": {},
   "source": [
    "Now we shall generate some values for x :\n",
    "This will have values from -10 to +10 with increment as 0.2 (-10.0,-9.8,...0,0.2,0.4...9.8)"
   ]
  },
  {
   "cell_type": "code",
   "execution_count": 21,
   "metadata": {
    "collapsed": false
   },
   "outputs": [],
   "source": [
    "x = np.arange(-10., 10., 0.2)"
   ]
  },
  {
   "cell_type": "raw",
   "metadata": {},
   "source": [
    "We shall pass the values of 'x' to our sigmoid function and store its's output in variable 'y'."
   ]
  },
  {
   "cell_type": "code",
   "execution_count": 22,
   "metadata": {
    "collapsed": true
   },
   "outputs": [],
   "source": [
    "y = sigmoid(x)"
   ]
  },
  {
   "cell_type": "raw",
   "metadata": {},
   "source": [
    "We shall plot the 'x' values in X-axis and 'y' values in Y-axis to see the sigmoid curve."
   ]
  },
  {
   "cell_type": "code",
   "execution_count": 23,
   "metadata": {
    "collapsed": false
   },
   "outputs": [
    {
     "data": {
      "image/png": "[encoded data removed]",
      "text/plain": [
       "<matplotlib.figure.Figure at 0x2b9c888ae80>"
      ]
     },
     "metadata": {},
     "output_type": "display_data"
    }
   ],
   "source": [
    "plt.plot(x,y)\n",
    "plt.show()"
   ]
  },
  {
   "cell_type": "raw",
   "metadata": {},
   "source": [
    "We can observe that , if 'x' is very negative, output is almost '0'. And if 'x' is very positive, its almost '1'. But when 'x' is '0', y is 0.5 ."
   ]
  },
  {
   "cell_type": "code",
   "execution_count": null,
   "metadata": {
    "collapsed": true
   },
   "outputs": [],
   "source": []
  }
 ],
 "metadata": {
  "kernelspec": {
   "display_name": "Python 3",
   "language": "python",
   "name": "python3"
  },
  "language_info": {
   "codemirror_mode": {
    "name": "ipython",
    "version": 3
   },
   "file_extension": ".py",
   "mimetype": "text/x-python",
   "name": "python",
   "nbconvert_exporter": "python",
   "pygments_lexer": "ipython3",
   "version": "3.6.0"
  }
 },
 "nbformat": 4,
 "nbformat_minor": 2
}
