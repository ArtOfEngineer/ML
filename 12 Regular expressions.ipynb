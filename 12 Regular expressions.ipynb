{
 "cells": [
  {
   "cell_type": "code",
   "execution_count": 1,
   "metadata": {
    "collapsed": true
   },
   "outputs": [],
   "source": [
    "# Regular expressions are a powerful set of tools which can be used to match certain patterns in\n",
    "#the given data\n",
    "#Examples: Checking if an email address is in correct format,Finding out pincodes in the address, etc.,\n",
    "#almost all programming languages support regular expressions"
   ]
  },
  {
   "cell_type": "code",
   "execution_count": 4,
   "metadata": {
    "collapsed": false
   },
   "outputs": [],
   "source": [
    "import re"
   ]
  },
  {
   "cell_type": "code",
   "execution_count": 5,
   "metadata": {
    "collapsed": false
   },
   "outputs": [
    {
     "name": "stdout",
     "output_type": "stream",
     "text": [
      "match\n"
     ]
    }
   ],
   "source": [
    "#To check if given string contains only numbers.\n",
    "#^means begining [0 to 9] * means continues 0 or more times with [0 to 9] $ means end\n",
    "data = \"515\"\n",
    "if re.match(r\"^[0-9]*$\", data):\n",
    "    print(\"match\")\n",
    "else:\n",
    "    print(\"no match\")"
   ]
  },
  {
   "cell_type": "code",
   "execution_count": 6,
   "metadata": {
    "collapsed": true
   },
   "outputs": [],
   "source": [
    "#extract all numbers in the string\n",
    "#+ means one or more.. one or more [0-9] digits."
   ]
  },
  {
   "cell_type": "code",
   "execution_count": 7,
   "metadata": {
    "collapsed": false
   },
   "outputs": [
    {
     "data": {
      "text/plain": [
       "['1', '123', '253']"
      ]
     },
     "execution_count": 7,
     "metadata": {},
     "output_type": "execute_result"
    }
   ],
   "source": [
    "str1 = \"hgv 1 h 123hgvgy 253\"\n",
    "lst1 = re.findall('[0-9]+', str1)\n",
    "lst1"
   ]
  },
  {
   "cell_type": "code",
   "execution_count": 8,
   "metadata": {
    "collapsed": true
   },
   "outputs": [],
   "source": [
    "#extract all lower case"
   ]
  },
  {
   "cell_type": "code",
   "execution_count": 9,
   "metadata": {
    "collapsed": false
   },
   "outputs": [
    {
     "data": {
      "text/plain": [
       "['hgv', 'h', 'hgvg', 'y', 'uj']"
      ]
     },
     "execution_count": 9,
     "metadata": {},
     "output_type": "execute_result"
    }
   ],
   "source": [
    "str1 = \"hgv 1 h 123hgvgJy W BNuj 253\"\n",
    "lst1 = re.findall('[a-z]+', str1)\n",
    "lst1"
   ]
  },
  {
   "cell_type": "code",
   "execution_count": 10,
   "metadata": {
    "collapsed": false
   },
   "outputs": [
    {
     "data": {
      "text/plain": [
       "['J', 'W', 'BN']"
      ]
     },
     "execution_count": 10,
     "metadata": {},
     "output_type": "execute_result"
    }
   ],
   "source": [
    "#all upper case\n",
    "str1 = \"hgv 1 h 123hgvgJy W BNuj 253\"\n",
    "lst1 = re.findall('[A-Z]+', str1)\n",
    "lst1"
   ]
  },
  {
   "cell_type": "code",
   "execution_count": 11,
   "metadata": {
    "collapsed": false
   },
   "outputs": [
    {
     "data": {
      "text/plain": [
       "['hgv', 'h', 'hgvgJy', 'W', 'BNuj']"
      ]
     },
     "execution_count": 11,
     "metadata": {},
     "output_type": "execute_result"
    }
   ],
   "source": [
    "#both upper  and lower case\n",
    "str1 = \"hgv 1 h 123hgvgJy W BNuj 253\"\n",
    "lst1 = re.findall('[a-zA-Z]+', str1)\n",
    "lst1"
   ]
  },
  {
   "cell_type": "code",
   "execution_count": 18,
   "metadata": {
    "collapsed": false
   },
   "outputs": [
    {
     "data": {
      "text/plain": [
       "['hgv', '1', 'h', '123hgvgJy', 'W', 'BNuj', '253']"
      ]
     },
     "execution_count": 18,
     "metadata": {},
     "output_type": "execute_result"
    }
   ],
   "source": [
    "#upper, lower case and digits\n",
    "str1 = \"hgv 1 h 123hgvgJy W BNuj 253\"\n",
    "lst1 = re.findall('[a-zA-Z0-9]+', str1)\n",
    "lst1"
   ]
  },
  {
   "cell_type": "code",
   "execution_count": 40,
   "metadata": {
    "collapsed": false
   },
   "outputs": [
    {
     "name": "stdout",
     "output_type": "stream",
     "text": [
      "match\n"
     ]
    }
   ],
   "source": [
    "#email id validation \n",
    "data = \"asasdf@gm12ail.com\"\n",
    "\n",
    "if re.match(r\"\\w+@\\w+\", data):\n",
    "    print(\"match\")\n",
    "else:\n",
    "    print(\"no match\")\n",
    "    \n",
    "#\\w is word characters ([a-zA-Z0-9_]+)"
   ]
  },
  {
   "cell_type": "code",
   "execution_count": 42,
   "metadata": {
    "collapsed": false
   },
   "outputs": [
    {
     "name": "stdout",
     "output_type": "stream",
     "text": [
      "match\n"
     ]
    }
   ],
   "source": [
    "#\\w equivalent to \\w [a-zA-Z0-9_] equivalent\n",
    "data = \"asasdf@gm12ail.com\"\n",
    "if re.match(r\"[a-zA-Z0-9_]+@[a-zA-Z0-9_]+\", data):\n",
    "    print(\"match\")\n",
    "else:\n",
    "    print(\"no match\")"
   ]
  },
  {
   "cell_type": "code",
   "execution_count": 44,
   "metadata": {
    "collapsed": false
   },
   "outputs": [
    {
     "name": "stdout",
     "output_type": "stream",
     "text": [
      "match\n"
     ]
    }
   ],
   "source": [
    "#check if file name is image\n",
    "data = \"ADF.jpg\"\n",
    "if re.match(r\"^\\w+\\.(gif|png|jpg|jpeg)$\", data):\n",
    "    print(\"match\")\n",
    "else:\n",
    "    print(\"no match\")"
   ]
  }
 ],
 "metadata": {
  "kernelspec": {
   "display_name": "Python 3",
   "language": "python",
   "name": "python3"
  },
  "language_info": {
   "codemirror_mode": {
    "name": "ipython",
    "version": 3
   },
   "file_extension": ".py",
   "mimetype": "text/x-python",
   "name": "python",
   "nbconvert_exporter": "python",
   "pygments_lexer": "ipython3",
   "version": "3.6.0"
  }
 },
 "nbformat": 4,
 "nbformat_minor": 2
}
