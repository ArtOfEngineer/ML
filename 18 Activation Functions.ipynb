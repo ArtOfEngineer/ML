{
 "cells": [
  {
   "cell_type": "raw",
   "metadata": {},
   "source": [
    "Activation Function is also referred to as Transfer Function. Before going to the explanation of Activation Function, we shall quickly recap the Mc-Culloch-Pitts model we had discussed in the last section."
   ]
  },
  {
   "cell_type": "markdown",
   "metadata": {},
   "source": [
    "![title](img/dl2.png)"
   ]
  },
  {
   "cell_type": "raw",
   "metadata": {},
   "source": [
    "  After the summation function (blue circle), the output Vk was passed on to Threshold function (red box). The very idea doing this is to limit the output Vk to only 2 values (i.e., either 0 or 1).  The red box in this case can be called as an Activation Function."
   ]
  },
  {
   "cell_type": "raw",
   "metadata": {},
   "source": [
    "In simple words, the activation function is a function that limits the output signal to a finite value.\n",
    "     The activation function can be a linear function (which represents straight line or planes) or a non-linear function (which represents curves). Most of the time, the activation functions used in neural networks will be non-linear.\n",
    "\n",
    "Some common types of Activation Functions:"
   ]
  },
  {
   "cell_type": "markdown",
   "metadata": {},
   "source": [
    "![title](img/dl5.png)"
   ]
  },
  {
   "cell_type": "markdown",
   "metadata": {},
   "source": [
    "![title](img/dl5b.png)"
   ]
  },
  {
   "cell_type": "code",
   "execution_count": null,
   "metadata": {
    "collapsed": true
   },
   "outputs": [],
   "source": []
  },
  {
   "cell_type": "markdown",
   "metadata": {},
   "source": [
    "![title](img/dl6.png)"
   ]
  },
  {
   "cell_type": "markdown",
   "metadata": {},
   "source": [
    "![title](img/dl6b.png)"
   ]
  },
  {
   "cell_type": "code",
   "execution_count": null,
   "metadata": {
    "collapsed": true
   },
   "outputs": [],
   "source": []
  },
  {
   "cell_type": "markdown",
   "metadata": {},
   "source": [
    "![title](img/dl7.png)"
   ]
  },
  {
   "cell_type": "markdown",
   "metadata": {},
   "source": [
    "![title](img/dl7b.png)"
   ]
  },
  {
   "cell_type": "code",
   "execution_count": null,
   "metadata": {
    "collapsed": true
   },
   "outputs": [],
   "source": []
  },
  {
   "cell_type": "markdown",
   "metadata": {},
   "source": [
    "![title](img/dl8.png)"
   ]
  },
  {
   "cell_type": "markdown",
   "metadata": {},
   "source": [
    "![title](img/dl8b.png)"
   ]
  },
  {
   "cell_type": "code",
   "execution_count": null,
   "metadata": {
    "collapsed": true
   },
   "outputs": [],
   "source": []
  },
  {
   "cell_type": "markdown",
   "metadata": {},
   "source": [
    "![title](img/dl9.png)"
   ]
  },
  {
   "cell_type": "markdown",
   "metadata": {},
   "source": [
    "![title](img/dl9b.png)"
   ]
  },
  {
   "cell_type": "raw",
   "metadata": {},
   "source": [
    "6. Softmax Function\n",
    "\n",
    "     Softmax function is used to force inputs such that the total sum of output values will be equal to one (in other words, to represent probability distribution).\n",
    "\n",
    "Confusing?? Let me give an example input and output.\n",
    "\n",
    "input values=[2,4,5]\n",
    "\n",
    "output values will be=[0.035,0.265,0.70]\n",
    "\n",
    "so if you observe, the input 2 is converted to ->0.035\n",
    "\n",
    "4-->0.265\n",
    "\n",
    "5-->0.70\n",
    "\n",
    "If you sum up all the output values, it would be equal to 1. i.e., 0.035+0.265+0.70=1\n",
    "\n",
    "The equation is given by:"
   ]
  },
  {
   "cell_type": "markdown",
   "metadata": {},
   "source": [
    "![title](img/dl10.png)"
   ]
  },
  {
   "cell_type": "code",
   "execution_count": null,
   "metadata": {
    "collapsed": true
   },
   "outputs": [],
   "source": []
  }
 ],
 "metadata": {
  "kernelspec": {
   "display_name": "Python 3",
   "language": "python",
   "name": "python3"
  },
  "language_info": {
   "codemirror_mode": {
    "name": "ipython",
    "version": 3
   },
   "file_extension": ".py",
   "mimetype": "text/x-python",
   "name": "python",
   "nbconvert_exporter": "python",
   "pygments_lexer": "ipython3",
   "version": "3.6.0"
  }
 },
 "nbformat": 4,
 "nbformat_minor": 2
}
