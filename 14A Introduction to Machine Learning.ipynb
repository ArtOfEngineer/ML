{
 "cells": [
  {
   "cell_type": "raw",
   "metadata": {},
   "source": [
    "What is Machine Learning? \n",
    "     Machine Learning is closely related to Statistics and Artificial Intelligence. \n",
    "     Machine Learning in simple words, is all about making the computers to perform intelligent tasks without explicitly coding. This is achieved by training  the computer with lots of data.\n",
    "\n",
    "For example: Detecting whether a mail is spam or not, recognizing handwritten digits, Fraud detection in Transactions. etc..,"
   ]
  },
  {
   "cell_type": "markdown",
   "metadata": {},
   "source": [
    "Detecting whether a mail is spam or not\n",
    "![title](img/mlintro1.png)"
   ]
  },
  {
   "cell_type": "markdown",
   "metadata": {},
   "source": [
    "recognizing handwritten digits\n",
    "![title](img/mlintro2.png)"
   ]
  },
  {
   "cell_type": "markdown",
   "metadata": {},
   "source": [
    "Fraud detection in Transactions\n",
    "![title](img/mlintro3.png)"
   ]
  },
  {
   "cell_type": "raw",
   "metadata": {},
   "source": [
    "What are the types of Algorithms used in Machine Learning?\n",
    "     There are a lot of algorithms used in machine learning. But all of them are classified under 3 categories.\n",
    "\n",
    "1.) Supervised Learning.\n",
    "\n",
    "2.) Un-Supervised Learning.\n",
    "\n",
    "3.) Reinforcement Learning."
   ]
  },
  {
   "cell_type": "raw",
   "metadata": {},
   "source": [
    "Supervised Learning :\n",
    "     To understand what supervised learning is, lets assume i have some data of Height vs Weight. "
   ]
  },
  {
   "cell_type": "markdown",
   "metadata": {},
   "source": [
    "![title](img/supervised.PNG)"
   ]
  },
  {
   "cell_type": "raw",
   "metadata": {},
   "source": [
    "The data is just for demo purpose, its not real data. I have just plotted the data (blue points in the picture). Using just this data, can you tell me what the weight of a person who is 6'2 would be?\n",
    "\n",
    "     I hope you would have guessed 62 Kg. Well this is supervised learning. You basically had data of certain people and using only those you can  predict the weights of people whose data is not present in the table.\n",
    "\n",
    "     So Supervised learning is used when you have the dependent variable    (weight data in our case) for some independent variables (heights). So     using this data, the supervised learning algorithm can learn and    predict values for new data points."
   ]
  },
  {
   "cell_type": "raw",
   "metadata": {},
   "source": [
    "Some common Supervised Learning algorithms are:\n",
    "\n",
    "Linear Regression\n",
    "Polynomial Regression\n",
    "Logistic Regression\n",
    "SVM (Support Vector Machines)\n",
    "KNN (K Nearest Neighbours)\n",
    "Neural Networks\n",
    "Decision Trees\n",
    "Naive Bayes\n",
    "Random Forests"
   ]
  },
  {
   "cell_type": "raw",
   "metadata": {},
   "source": [
    "Un-Supervised Learning : \n",
    "     In Un Supervised learning we only have input data points without any labels. We are required to find patterns in the data (or clusters) and using those patterns, we can predict to which pattern (or cluster) the new data belongs to.\n",
    "     \n",
    "     in the unsupervised learning our inputs (training data) are unlabeled and we have no output results to validate efficiency of the learning process.However, once the training process is complete, we are able to label our data."
   ]
  },
  {
   "cell_type": "markdown",
   "metadata": {},
   "source": [
    "![TITLE](img/unsupervised.png)"
   ]
  },
  {
   "cell_type": "raw",
   "metadata": {},
   "source": [
    "Please observe figure A, We have certain data points in 2 dimensions. These data points have no labels. So we cannot differentiate them. But since they are in lower dimension, we can visually identify there is some pattern. There are 3 clusters (see figure B). This is unsupervised Learning. So if we are given any new data point, we can classify it into one of those 3 clusters based on how close it is to that cluster. If the new data point is far away from all those 3 clusters, we can simply add new cluster and name it as cluster 4.\n",
    "\n",
    "Some common Un-Supervised Learning algorithms:\n",
    "\n",
    "Clustering :\n",
    "\n",
    "K-Means Clustering\n",
    "Hierarchical Clustering\n",
    "single linkage clustering"
   ]
  },
  {
   "cell_type": "raw",
   "metadata": {},
   "source": [
    "Reinforcement Learning :\n",
    "     Reinforcement is all about letting an agent (or computer) to interact in an environment and do certain things to get positive rewards.\n",
    "\n",
    "    Lets consider an example of you training your dog to do some tricks. If your dog does it right, you will reward it by giving a treat. If it does trick wrong, you simply punish it by not giving any treat. The dog will learn from its mistake by itself and continues to do things which are rewarding. "
   ]
  },
  {
   "cell_type": "markdown",
   "metadata": {},
   "source": [
    "![title](img/mlintro4.png)"
   ]
  },
  {
   "cell_type": "code",
   "execution_count": null,
   "metadata": {
    "collapsed": true
   },
   "outputs": [],
   "source": []
  }
 ],
 "metadata": {
  "kernelspec": {
   "display_name": "Python 3",
   "language": "python",
   "name": "python3"
  },
  "language_info": {
   "codemirror_mode": {
    "name": "ipython",
    "version": 3
   },
   "file_extension": ".py",
   "mimetype": "text/x-python",
   "name": "python",
   "nbconvert_exporter": "python",
   "pygments_lexer": "ipython3",
   "version": "3.6.0"
  }
 },
 "nbformat": 4,
 "nbformat_minor": 2
}
